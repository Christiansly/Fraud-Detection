{
 "cells": [
  {
   "cell_type": "code",
   "execution_count": 153,
   "metadata": {},
   "outputs": [],
   "source": [
    "import numpy as np\n",
    "import pandas as pd\n",
    "import xam\n",
    "\n",
    "import warnings\n",
    "warnings.filterwarnings(\"ignore\")"
   ]
  },
  {
   "cell_type": "code",
   "execution_count": 154,
   "metadata": {},
   "outputs": [],
   "source": [
    "train = pd.read_csv('train.csv')\n",
    "test = pd.read_csv('test.csv')"
   ]
  },
  {
   "cell_type": "code",
   "execution_count": 155,
   "metadata": {},
   "outputs": [],
   "source": [
    "# drop ID column\n",
    "train.drop('EmployeeNo', axis=1, inplace=True)\n",
    "test_id = test['EmployeeNo']\n",
    "test.drop('EmployeeNo', axis=1, inplace=True)"
   ]
  },
  {
   "cell_type": "code",
   "execution_count": 156,
   "metadata": {},
   "outputs": [],
   "source": [
    "cat_cols = list(train.select_dtypes(include='object').columns)\n",
    "num_cols = list(train.select_dtypes(exclude='object').columns)"
   ]
  },
  {
   "cell_type": "code",
   "execution_count": 158,
   "metadata": {},
   "outputs": [
    {
     "data": {
      "text/plain": [
       "First Degree or HND         25578\n",
       "MSc, MBA and PhD            10469\n",
       "Non-University Education      586\n",
       "Name: Qualification, dtype: int64"
      ]
     },
     "execution_count": 158,
     "metadata": {},
     "output_type": "execute_result"
    }
   ],
   "source": [
    "train['Qualification'].value_counts()"
   ]
  },
  {
   "cell_type": "markdown",
   "metadata": {},
   "source": [
    "Fill missing column in Qualification with Mode (First Degree or HND) and create a new column to indicate that they were missing"
   ]
  },
  {
   "cell_type": "code",
   "execution_count": 159,
   "metadata": {},
   "outputs": [],
   "source": [
    "# train['Missing_quaifications'] =  train['Qualification'].isna().astype('int64')\n",
    "train['Qualification'].fillna('Non-University Education', inplace=True)\n",
    "\n",
    "# test['Missing_quaifications'] =  test['Qualification'].isna().astype('int64')\n",
    "test['Qualification'].fillna('Non-University Education', inplace=True)"
   ]
  },
  {
   "cell_type": "markdown",
   "metadata": {},
   "source": [
    "### Exploration numerical features"
   ]
  },
  {
   "cell_type": "code",
   "execution_count": 160,
   "metadata": {},
   "outputs": [
    {
     "data": {
      "text/html": [
       "<div>\n",
       "<style scoped>\n",
       "    .dataframe tbody tr th:only-of-type {\n",
       "        vertical-align: middle;\n",
       "    }\n",
       "\n",
       "    .dataframe tbody tr th {\n",
       "        vertical-align: top;\n",
       "    }\n",
       "\n",
       "    .dataframe thead th {\n",
       "        text-align: right;\n",
       "    }\n",
       "</style>\n",
       "<table border=\"1\" class=\"dataframe\">\n",
       "  <thead>\n",
       "    <tr style=\"text-align: right;\">\n",
       "      <th></th>\n",
       "      <th>Trainings_Attended</th>\n",
       "      <th>Year_of_birth</th>\n",
       "      <th>Last_performance_score</th>\n",
       "      <th>Year_of_recruitment</th>\n",
       "      <th>Targets_met</th>\n",
       "      <th>Previous_Award</th>\n",
       "      <th>Training_score_average</th>\n",
       "      <th>Promoted_or_Not</th>\n",
       "    </tr>\n",
       "  </thead>\n",
       "  <tbody>\n",
       "    <tr>\n",
       "      <th>count</th>\n",
       "      <td>38312.000000</td>\n",
       "      <td>38312.000000</td>\n",
       "      <td>38312.000000</td>\n",
       "      <td>38312.000000</td>\n",
       "      <td>38312.000000</td>\n",
       "      <td>38312.000000</td>\n",
       "      <td>38312.000000</td>\n",
       "      <td>38312.000000</td>\n",
       "    </tr>\n",
       "    <tr>\n",
       "      <th>mean</th>\n",
       "      <td>2.253680</td>\n",
       "      <td>1986.209334</td>\n",
       "      <td>7.698959</td>\n",
       "      <td>2013.139695</td>\n",
       "      <td>0.352996</td>\n",
       "      <td>0.023152</td>\n",
       "      <td>55.366465</td>\n",
       "      <td>0.084595</td>\n",
       "    </tr>\n",
       "    <tr>\n",
       "      <th>std</th>\n",
       "      <td>0.609443</td>\n",
       "      <td>7.646047</td>\n",
       "      <td>3.744135</td>\n",
       "      <td>4.261451</td>\n",
       "      <td>0.477908</td>\n",
       "      <td>0.150388</td>\n",
       "      <td>13.362741</td>\n",
       "      <td>0.278282</td>\n",
       "    </tr>\n",
       "    <tr>\n",
       "      <th>min</th>\n",
       "      <td>2.000000</td>\n",
       "      <td>1950.000000</td>\n",
       "      <td>0.000000</td>\n",
       "      <td>1982.000000</td>\n",
       "      <td>0.000000</td>\n",
       "      <td>0.000000</td>\n",
       "      <td>31.000000</td>\n",
       "      <td>0.000000</td>\n",
       "    </tr>\n",
       "    <tr>\n",
       "      <th>25%</th>\n",
       "      <td>2.000000</td>\n",
       "      <td>1982.000000</td>\n",
       "      <td>5.000000</td>\n",
       "      <td>2012.000000</td>\n",
       "      <td>0.000000</td>\n",
       "      <td>0.000000</td>\n",
       "      <td>43.000000</td>\n",
       "      <td>0.000000</td>\n",
       "    </tr>\n",
       "    <tr>\n",
       "      <th>50%</th>\n",
       "      <td>2.000000</td>\n",
       "      <td>1988.000000</td>\n",
       "      <td>7.500000</td>\n",
       "      <td>2014.000000</td>\n",
       "      <td>0.000000</td>\n",
       "      <td>0.000000</td>\n",
       "      <td>52.000000</td>\n",
       "      <td>0.000000</td>\n",
       "    </tr>\n",
       "    <tr>\n",
       "      <th>75%</th>\n",
       "      <td>2.000000</td>\n",
       "      <td>1992.000000</td>\n",
       "      <td>10.000000</td>\n",
       "      <td>2016.000000</td>\n",
       "      <td>1.000000</td>\n",
       "      <td>0.000000</td>\n",
       "      <td>68.000000</td>\n",
       "      <td>0.000000</td>\n",
       "    </tr>\n",
       "    <tr>\n",
       "      <th>max</th>\n",
       "      <td>11.000000</td>\n",
       "      <td>2001.000000</td>\n",
       "      <td>12.500000</td>\n",
       "      <td>2018.000000</td>\n",
       "      <td>1.000000</td>\n",
       "      <td>1.000000</td>\n",
       "      <td>91.000000</td>\n",
       "      <td>1.000000</td>\n",
       "    </tr>\n",
       "  </tbody>\n",
       "</table>\n",
       "</div>"
      ],
      "text/plain": [
       "       Trainings_Attended  Year_of_birth  Last_performance_score  \\\n",
       "count        38312.000000   38312.000000            38312.000000   \n",
       "mean             2.253680    1986.209334                7.698959   \n",
       "std              0.609443       7.646047                3.744135   \n",
       "min              2.000000    1950.000000                0.000000   \n",
       "25%              2.000000    1982.000000                5.000000   \n",
       "50%              2.000000    1988.000000                7.500000   \n",
       "75%              2.000000    1992.000000               10.000000   \n",
       "max             11.000000    2001.000000               12.500000   \n",
       "\n",
       "       Year_of_recruitment   Targets_met  Previous_Award  \\\n",
       "count         38312.000000  38312.000000    38312.000000   \n",
       "mean           2013.139695      0.352996        0.023152   \n",
       "std               4.261451      0.477908        0.150388   \n",
       "min            1982.000000      0.000000        0.000000   \n",
       "25%            2012.000000      0.000000        0.000000   \n",
       "50%            2014.000000      0.000000        0.000000   \n",
       "75%            2016.000000      1.000000        0.000000   \n",
       "max            2018.000000      1.000000        1.000000   \n",
       "\n",
       "       Training_score_average  Promoted_or_Not  \n",
       "count            38312.000000     38312.000000  \n",
       "mean                55.366465         0.084595  \n",
       "std                 13.362741         0.278282  \n",
       "min                 31.000000         0.000000  \n",
       "25%                 43.000000         0.000000  \n",
       "50%                 52.000000         0.000000  \n",
       "75%                 68.000000         0.000000  \n",
       "max                 91.000000         1.000000  "
      ]
     },
     "execution_count": 160,
     "metadata": {},
     "output_type": "execute_result"
    }
   ],
   "source": [
    "train.describe()"
   ]
  },
  {
   "cell_type": "code",
   "execution_count": null,
   "metadata": {},
   "outputs": [],
   "source": []
  },
  {
   "cell_type": "markdown",
   "metadata": {},
   "source": [
    "### Exploration Categorical features"
   ]
  },
  {
   "cell_type": "code",
   "execution_count": 161,
   "metadata": {},
   "outputs": [
    {
     "data": {
      "text/html": [
       "<div>\n",
       "<style scoped>\n",
       "    .dataframe tbody tr th:only-of-type {\n",
       "        vertical-align: middle;\n",
       "    }\n",
       "\n",
       "    .dataframe tbody tr th {\n",
       "        vertical-align: top;\n",
       "    }\n",
       "\n",
       "    .dataframe thead th {\n",
       "        text-align: right;\n",
       "    }\n",
       "</style>\n",
       "<table border=\"1\" class=\"dataframe\">\n",
       "  <thead>\n",
       "    <tr style=\"text-align: right;\">\n",
       "      <th></th>\n",
       "      <th>Division</th>\n",
       "      <th>Qualification</th>\n",
       "      <th>Gender</th>\n",
       "      <th>Channel_of_Recruitment</th>\n",
       "      <th>State_Of_Origin</th>\n",
       "      <th>Foreign_schooled</th>\n",
       "      <th>Marital_Status</th>\n",
       "      <th>Past_Disciplinary_Action</th>\n",
       "      <th>Previous_IntraDepartmental_Movement</th>\n",
       "      <th>No_of_previous_employers</th>\n",
       "    </tr>\n",
       "  </thead>\n",
       "  <tbody>\n",
       "    <tr>\n",
       "      <th>0</th>\n",
       "      <td>Commercial Sales and Marketing</td>\n",
       "      <td>MSc, MBA and PhD</td>\n",
       "      <td>Female</td>\n",
       "      <td>Direct Internal process</td>\n",
       "      <td>ANAMBRA</td>\n",
       "      <td>No</td>\n",
       "      <td>Married</td>\n",
       "      <td>No</td>\n",
       "      <td>No</td>\n",
       "      <td>0</td>\n",
       "    </tr>\n",
       "    <tr>\n",
       "      <th>1</th>\n",
       "      <td>Customer Support and Field Operations</td>\n",
       "      <td>First Degree or HND</td>\n",
       "      <td>Male</td>\n",
       "      <td>Agency and others</td>\n",
       "      <td>ANAMBRA</td>\n",
       "      <td>Yes</td>\n",
       "      <td>Married</td>\n",
       "      <td>No</td>\n",
       "      <td>No</td>\n",
       "      <td>0</td>\n",
       "    </tr>\n",
       "    <tr>\n",
       "      <th>2</th>\n",
       "      <td>Commercial Sales and Marketing</td>\n",
       "      <td>First Degree or HND</td>\n",
       "      <td>Male</td>\n",
       "      <td>Direct Internal process</td>\n",
       "      <td>KATSINA</td>\n",
       "      <td>Yes</td>\n",
       "      <td>Married</td>\n",
       "      <td>No</td>\n",
       "      <td>No</td>\n",
       "      <td>0</td>\n",
       "    </tr>\n",
       "    <tr>\n",
       "      <th>3</th>\n",
       "      <td>Commercial Sales and Marketing</td>\n",
       "      <td>First Degree or HND</td>\n",
       "      <td>Male</td>\n",
       "      <td>Agency and others</td>\n",
       "      <td>NIGER</td>\n",
       "      <td>Yes</td>\n",
       "      <td>Single</td>\n",
       "      <td>No</td>\n",
       "      <td>No</td>\n",
       "      <td>1</td>\n",
       "    </tr>\n",
       "    <tr>\n",
       "      <th>4</th>\n",
       "      <td>Information and Strategy</td>\n",
       "      <td>First Degree or HND</td>\n",
       "      <td>Male</td>\n",
       "      <td>Direct Internal process</td>\n",
       "      <td>AKWA IBOM</td>\n",
       "      <td>Yes</td>\n",
       "      <td>Married</td>\n",
       "      <td>No</td>\n",
       "      <td>No</td>\n",
       "      <td>1</td>\n",
       "    </tr>\n",
       "  </tbody>\n",
       "</table>\n",
       "</div>"
      ],
      "text/plain": [
       "                                Division        Qualification  Gender  \\\n",
       "0         Commercial Sales and Marketing     MSc, MBA and PhD  Female   \n",
       "1  Customer Support and Field Operations  First Degree or HND    Male   \n",
       "2         Commercial Sales and Marketing  First Degree or HND    Male   \n",
       "3         Commercial Sales and Marketing  First Degree or HND    Male   \n",
       "4               Information and Strategy  First Degree or HND    Male   \n",
       "\n",
       "    Channel_of_Recruitment State_Of_Origin Foreign_schooled Marital_Status  \\\n",
       "0  Direct Internal process         ANAMBRA               No        Married   \n",
       "1        Agency and others         ANAMBRA              Yes        Married   \n",
       "2  Direct Internal process         KATSINA              Yes        Married   \n",
       "3        Agency and others           NIGER              Yes         Single   \n",
       "4  Direct Internal process       AKWA IBOM              Yes        Married   \n",
       "\n",
       "  Past_Disciplinary_Action Previous_IntraDepartmental_Movement  \\\n",
       "0                       No                                  No   \n",
       "1                       No                                  No   \n",
       "2                       No                                  No   \n",
       "3                       No                                  No   \n",
       "4                       No                                  No   \n",
       "\n",
       "  No_of_previous_employers  \n",
       "0                        0  \n",
       "1                        0  \n",
       "2                        0  \n",
       "3                        1  \n",
       "4                        1  "
      ]
     },
     "execution_count": 161,
     "metadata": {},
     "output_type": "execute_result"
    }
   ],
   "source": [
    "train[cat_cols].head()"
   ]
  },
  {
   "cell_type": "code",
   "execution_count": 162,
   "metadata": {},
   "outputs": [
    {
     "name": "stdout",
     "output_type": "stream",
     "text": [
      "Division: 9\n",
      "Qualification: 3\n",
      "Gender: 2\n",
      "Channel_of_Recruitment: 3\n",
      "State_Of_Origin: 37\n",
      "Foreign_schooled: 2\n",
      "Marital_Status: 3\n",
      "Past_Disciplinary_Action: 2\n",
      "Previous_IntraDepartmental_Movement: 2\n",
      "No_of_previous_employers: 7\n"
     ]
    }
   ],
   "source": [
    "for col in cat_cols:\n",
    "    print(\"{}: {}\".format(col, train[col].nunique()))"
   ]
  },
  {
   "cell_type": "code",
   "execution_count": 164,
   "metadata": {},
   "outputs": [],
   "source": [
    "# Label Encode Division and  State of Origin\n",
    "from sklearn.preprocessing import LabelEncoder\n",
    "\n",
    "to_enc = ['Division', 'State_Of_Origin']\n",
    "\n",
    "lb = LabelEncoder()\n",
    "for col in to_enc:\n",
    "    lb.fit(train[col])\n",
    "    train[col] = lb.transform(train[col])\n",
    "    test[col] = lb.transform(test[col])"
   ]
  },
  {
   "cell_type": "code",
   "execution_count": 166,
   "metadata": {},
   "outputs": [],
   "source": [
    "# mean encoding\n",
    "\n",
    "mean_enc = xam.feature_extraction.BayesianTargetEncoder(columns=cat_cols)\n",
    "\n",
    "y = train['Promoted_or_Not']\n",
    "train_enc = train.drop('Promoted_or_Not', axis=1)\n",
    "mean_enc.fit(train_enc, y)\n",
    "\n",
    "train_enc = mean_enc.transform(train_enc)\n",
    "test_enc = mean_enc.transform(test)"
   ]
  },
  {
   "cell_type": "code",
   "execution_count": 167,
   "metadata": {},
   "outputs": [],
   "source": [
    "train_enc.drop(cat_cols, axis=1, inplace=True)\n",
    "test_enc.drop(cat_cols, axis=1, inplace=True)"
   ]
  },
  {
   "cell_type": "code",
   "execution_count": 168,
   "metadata": {},
   "outputs": [
    {
     "data": {
      "text/html": [
       "<div>\n",
       "<style scoped>\n",
       "    .dataframe tbody tr th:only-of-type {\n",
       "        vertical-align: middle;\n",
       "    }\n",
       "\n",
       "    .dataframe tbody tr th {\n",
       "        vertical-align: top;\n",
       "    }\n",
       "\n",
       "    .dataframe thead th {\n",
       "        text-align: right;\n",
       "    }\n",
       "</style>\n",
       "<table border=\"1\" class=\"dataframe\">\n",
       "  <thead>\n",
       "    <tr style=\"text-align: right;\">\n",
       "      <th></th>\n",
       "      <th>Trainings_Attended</th>\n",
       "      <th>Year_of_birth</th>\n",
       "      <th>Last_performance_score</th>\n",
       "      <th>Year_of_recruitment</th>\n",
       "      <th>Targets_met</th>\n",
       "      <th>Previous_Award</th>\n",
       "      <th>Training_score_average</th>\n",
       "      <th>Division_mean</th>\n",
       "      <th>Qualification_mean</th>\n",
       "      <th>Gender_mean</th>\n",
       "      <th>Channel_of_Recruitment_mean</th>\n",
       "      <th>State_Of_Origin_mean</th>\n",
       "      <th>Foreign_schooled_mean</th>\n",
       "      <th>Marital_Status_mean</th>\n",
       "      <th>Past_Disciplinary_Action_mean</th>\n",
       "      <th>Previous_IntraDepartmental_Movement_mean</th>\n",
       "      <th>No_of_previous_employers_mean</th>\n",
       "    </tr>\n",
       "  </thead>\n",
       "  <tbody>\n",
       "    <tr>\n",
       "      <th>0</th>\n",
       "      <td>2</td>\n",
       "      <td>1986</td>\n",
       "      <td>12.5</td>\n",
       "      <td>2011</td>\n",
       "      <td>1</td>\n",
       "      <td>0</td>\n",
       "      <td>41</td>\n",
       "      <td>0.072019</td>\n",
       "      <td>0.096552</td>\n",
       "      <td>0.089010</td>\n",
       "      <td>0.083188</td>\n",
       "      <td>0.095281</td>\n",
       "      <td>0.081785</td>\n",
       "      <td>0.084971</td>\n",
       "      <td>0.084511</td>\n",
       "      <td>0.085336</td>\n",
       "      <td>0.082371</td>\n",
       "    </tr>\n",
       "    <tr>\n",
       "      <th>1</th>\n",
       "      <td>2</td>\n",
       "      <td>1991</td>\n",
       "      <td>12.5</td>\n",
       "      <td>2015</td>\n",
       "      <td>0</td>\n",
       "      <td>0</td>\n",
       "      <td>52</td>\n",
       "      <td>0.088252</td>\n",
       "      <td>0.081917</td>\n",
       "      <td>0.082708</td>\n",
       "      <td>0.084281</td>\n",
       "      <td>0.095281</td>\n",
       "      <td>0.084868</td>\n",
       "      <td>0.084971</td>\n",
       "      <td>0.084511</td>\n",
       "      <td>0.085336</td>\n",
       "      <td>0.082371</td>\n",
       "    </tr>\n",
       "    <tr>\n",
       "      <th>2</th>\n",
       "      <td>2</td>\n",
       "      <td>1987</td>\n",
       "      <td>7.5</td>\n",
       "      <td>2012</td>\n",
       "      <td>0</td>\n",
       "      <td>0</td>\n",
       "      <td>42</td>\n",
       "      <td>0.072019</td>\n",
       "      <td>0.081917</td>\n",
       "      <td>0.082708</td>\n",
       "      <td>0.083188</td>\n",
       "      <td>0.078964</td>\n",
       "      <td>0.084868</td>\n",
       "      <td>0.084971</td>\n",
       "      <td>0.084511</td>\n",
       "      <td>0.085336</td>\n",
       "      <td>0.082371</td>\n",
       "    </tr>\n",
       "    <tr>\n",
       "      <th>3</th>\n",
       "      <td>3</td>\n",
       "      <td>1982</td>\n",
       "      <td>2.5</td>\n",
       "      <td>2009</td>\n",
       "      <td>0</td>\n",
       "      <td>0</td>\n",
       "      <td>42</td>\n",
       "      <td>0.072019</td>\n",
       "      <td>0.081917</td>\n",
       "      <td>0.082708</td>\n",
       "      <td>0.084281</td>\n",
       "      <td>0.072580</td>\n",
       "      <td>0.084868</td>\n",
       "      <td>0.081750</td>\n",
       "      <td>0.084511</td>\n",
       "      <td>0.085336</td>\n",
       "      <td>0.085541</td>\n",
       "    </tr>\n",
       "    <tr>\n",
       "      <th>4</th>\n",
       "      <td>3</td>\n",
       "      <td>1990</td>\n",
       "      <td>7.5</td>\n",
       "      <td>2012</td>\n",
       "      <td>0</td>\n",
       "      <td>0</td>\n",
       "      <td>77</td>\n",
       "      <td>0.093290</td>\n",
       "      <td>0.081917</td>\n",
       "      <td>0.082708</td>\n",
       "      <td>0.083188</td>\n",
       "      <td>0.084682</td>\n",
       "      <td>0.084868</td>\n",
       "      <td>0.084971</td>\n",
       "      <td>0.084511</td>\n",
       "      <td>0.085336</td>\n",
       "      <td>0.085541</td>\n",
       "    </tr>\n",
       "  </tbody>\n",
       "</table>\n",
       "</div>"
      ],
      "text/plain": [
       "   Trainings_Attended  Year_of_birth  Last_performance_score  \\\n",
       "0                   2           1986                    12.5   \n",
       "1                   2           1991                    12.5   \n",
       "2                   2           1987                     7.5   \n",
       "3                   3           1982                     2.5   \n",
       "4                   3           1990                     7.5   \n",
       "\n",
       "   Year_of_recruitment  Targets_met  Previous_Award  Training_score_average  \\\n",
       "0                 2011            1               0                      41   \n",
       "1                 2015            0               0                      52   \n",
       "2                 2012            0               0                      42   \n",
       "3                 2009            0               0                      42   \n",
       "4                 2012            0               0                      77   \n",
       "\n",
       "   Division_mean  Qualification_mean  Gender_mean  \\\n",
       "0       0.072019            0.096552     0.089010   \n",
       "1       0.088252            0.081917     0.082708   \n",
       "2       0.072019            0.081917     0.082708   \n",
       "3       0.072019            0.081917     0.082708   \n",
       "4       0.093290            0.081917     0.082708   \n",
       "\n",
       "   Channel_of_Recruitment_mean  State_Of_Origin_mean  Foreign_schooled_mean  \\\n",
       "0                     0.083188              0.095281               0.081785   \n",
       "1                     0.084281              0.095281               0.084868   \n",
       "2                     0.083188              0.078964               0.084868   \n",
       "3                     0.084281              0.072580               0.084868   \n",
       "4                     0.083188              0.084682               0.084868   \n",
       "\n",
       "   Marital_Status_mean  Past_Disciplinary_Action_mean  \\\n",
       "0             0.084971                       0.084511   \n",
       "1             0.084971                       0.084511   \n",
       "2             0.084971                       0.084511   \n",
       "3             0.081750                       0.084511   \n",
       "4             0.084971                       0.084511   \n",
       "\n",
       "   Previous_IntraDepartmental_Movement_mean  No_of_previous_employers_mean  \n",
       "0                                  0.085336                       0.082371  \n",
       "1                                  0.085336                       0.082371  \n",
       "2                                  0.085336                       0.082371  \n",
       "3                                  0.085336                       0.085541  \n",
       "4                                  0.085336                       0.085541  "
      ]
     },
     "execution_count": 168,
     "metadata": {},
     "output_type": "execute_result"
    }
   ],
   "source": [
    "train_enc.head()"
   ]
  },
  {
   "cell_type": "code",
   "execution_count": 169,
   "metadata": {},
   "outputs": [],
   "source": [
    "# # One hot encode\n",
    "# train = pd.get_dummies(train_enc)\n",
    "# test = pd.get_dummies(test_enc)"
   ]
  },
  {
   "cell_type": "code",
   "execution_count": 170,
   "metadata": {},
   "outputs": [
    {
     "data": {
      "text/plain": [
       "(38312, 17)"
      ]
     },
     "execution_count": 170,
     "metadata": {},
     "output_type": "execute_result"
    }
   ],
   "source": [
    "train_enc.shape"
   ]
  },
  {
   "cell_type": "code",
   "execution_count": 171,
   "metadata": {},
   "outputs": [
    {
     "data": {
      "text/plain": [
       "(16496, 17)"
      ]
     },
     "execution_count": 171,
     "metadata": {},
     "output_type": "execute_result"
    }
   ],
   "source": [
    "test.shape"
   ]
  },
  {
   "cell_type": "code",
   "execution_count": 172,
   "metadata": {},
   "outputs": [],
   "source": [
    "# get columns for feature importance\n",
    "train_cols = train_enc.columns\n",
    "\n",
    "# target = train['Promoted_or_Not']\n",
    "# train.drop('Promoted_or_Not', axis=1, inplace=True)"
   ]
  },
  {
   "cell_type": "code",
   "execution_count": 173,
   "metadata": {},
   "outputs": [],
   "source": [
    "# split data\n",
    "from sklearn.model_selection import train_test_split\n",
    "\n",
    "X_train, X_test, y_train, y_test = train_test_split(train_enc, y, test_size=0.3, random_state=1)"
   ]
  },
  {
   "cell_type": "code",
   "execution_count": 174,
   "metadata": {},
   "outputs": [],
   "source": [
    "from sklearn.preprocessing import StandardScaler\n",
    "\n",
    "sc = StandardScaler()\n",
    "\n",
    "sc.fit(X_train)\n",
    "X_train = sc.transform(X_train)\n",
    "X_test = sc.transform(X_test)\n"
   ]
  },
  {
   "cell_type": "markdown",
   "metadata": {},
   "source": [
    "### MODELING"
   ]
  },
  {
   "cell_type": "code",
   "execution_count": 175,
   "metadata": {},
   "outputs": [],
   "source": [
    "from sklearn.ensemble import RandomForestClassifier\n",
    "from sklearn.metrics import f1_score\n",
    "from sklearn.ensemble import BaggingClassifier, VotingClassifier\n",
    "\n",
    "import lightgbm as lgb\n",
    "# import xgboost as xgb\n",
    "import catboost as cb\n"
   ]
  },
  {
   "cell_type": "code",
   "execution_count": 176,
   "metadata": {},
   "outputs": [],
   "source": [
    "def train_and_score(model, X, y, test, test_y):\n",
    "    model.fit(X, y)\n",
    "    pred = model.predict(test)\n",
    "    print(\"F1_score is {}\".format(f1_score(pred, test_y)))"
   ]
  },
  {
   "cell_type": "code",
   "execution_count": 177,
   "metadata": {},
   "outputs": [],
   "source": [
    "def max_train_and_score(models, X, y, test, test_y, full=False):\n",
    "    pred_array = pd.DataFrame()\n",
    "    \n",
    "    for i,model in enumerate(models):\n",
    "        model.fit(X, y)\n",
    "        pred = model.predict(test)\n",
    "        pred_array['model{}'.format(i)] = pred\n",
    "        max_pred = round(pred_array.mean(axis=1)).astype('int64')\n",
    "        \n",
    "    if full:\n",
    "        pass\n",
    "    else:\n",
    "        print(\"F1_score is {}\".format(f1_score(max_pred, test_y)))\n",
    "    \n",
    "    return max_pred"
   ]
  },
  {
   "cell_type": "code",
   "execution_count": 178,
   "metadata": {},
   "outputs": [
    {
     "name": "stdout",
     "output_type": "stream",
     "text": [
      "F1_score is 0.5053929121725731\n"
     ]
    }
   ],
   "source": [
    "cb_model = cb.CatBoostClassifier(iterations=700, random_seed=1, silent=True)\n",
    "train_and_score(cb_model, X_train, y_train, X_test, y_test)"
   ]
  },
  {
   "cell_type": "code",
   "execution_count": 179,
   "metadata": {},
   "outputs": [
    {
     "name": "stdout",
     "output_type": "stream",
     "text": [
      "F1_score is 0.5047688921496699\n"
     ]
    }
   ],
   "source": [
    "best_lgb = lgb.LGBMClassifier(n_estimators=1200, max_depth=4, random_state = 1)\n",
    "train_and_score(best_lgb, X_train, y_train, X_test, y_test)"
   ]
  },
  {
   "cell_type": "code",
   "execution_count": 180,
   "metadata": {},
   "outputs": [],
   "source": [
    "# rf_model = RandomForestClassifier(n_estimators=1000, random_state=2)\n",
    "# train_and_score(rf_model, X_train, y_train, X_test, y_test)"
   ]
  },
  {
   "cell_type": "code",
   "execution_count": 181,
   "metadata": {},
   "outputs": [],
   "source": [
    "# xgb_model = xgb.XGBClassifier(n_estimators=1000, random_state=2)\n",
    "# train_and_score(xgb_model, X_train, y_train, X_test, y_test)"
   ]
  },
  {
   "cell_type": "code",
   "execution_count": 182,
   "metadata": {},
   "outputs": [],
   "source": [
    "# ests = [cb_model, xgb_model,best_lgb, rf_model]\n",
    "# # pred = max_train_and_score(ests, X_train, y_train, X_test, y_test)"
   ]
  },
  {
   "cell_type": "code",
   "execution_count": 183,
   "metadata": {},
   "outputs": [],
   "source": [
    "sample = pd.read_csv('sample_submission2.csv')"
   ]
  },
  {
   "cell_type": "code",
   "execution_count": 184,
   "metadata": {},
   "outputs": [
    {
     "data": {
      "text/html": [
       "<div>\n",
       "<style scoped>\n",
       "    .dataframe tbody tr th:only-of-type {\n",
       "        vertical-align: middle;\n",
       "    }\n",
       "\n",
       "    .dataframe tbody tr th {\n",
       "        vertical-align: top;\n",
       "    }\n",
       "\n",
       "    .dataframe thead th {\n",
       "        text-align: right;\n",
       "    }\n",
       "</style>\n",
       "<table border=\"1\" class=\"dataframe\">\n",
       "  <thead>\n",
       "    <tr style=\"text-align: right;\">\n",
       "      <th></th>\n",
       "      <th>EmployeeNo</th>\n",
       "      <th>Promoted_or_Not</th>\n",
       "    </tr>\n",
       "  </thead>\n",
       "  <tbody>\n",
       "    <tr>\n",
       "      <th>0</th>\n",
       "      <td>YAK/S/34385</td>\n",
       "      <td>1</td>\n",
       "    </tr>\n",
       "    <tr>\n",
       "      <th>1</th>\n",
       "      <td>YAK/S/27825</td>\n",
       "      <td>1</td>\n",
       "    </tr>\n",
       "    <tr>\n",
       "      <th>2</th>\n",
       "      <td>YAK/S/23870</td>\n",
       "      <td>1</td>\n",
       "    </tr>\n",
       "    <tr>\n",
       "      <th>3</th>\n",
       "      <td>YAK/S/54784</td>\n",
       "      <td>1</td>\n",
       "    </tr>\n",
       "    <tr>\n",
       "      <th>4</th>\n",
       "      <td>YAK/S/25058</td>\n",
       "      <td>1</td>\n",
       "    </tr>\n",
       "  </tbody>\n",
       "</table>\n",
       "</div>"
      ],
      "text/plain": [
       "    EmployeeNo  Promoted_or_Not\n",
       "0  YAK/S/34385                1\n",
       "1  YAK/S/27825                1\n",
       "2  YAK/S/23870                1\n",
       "3  YAK/S/54784                1\n",
       "4  YAK/S/25058                1"
      ]
     },
     "execution_count": 184,
     "metadata": {},
     "output_type": "execute_result"
    }
   ],
   "source": [
    "sample.head()"
   ]
  },
  {
   "cell_type": "code",
   "execution_count": 185,
   "metadata": {},
   "outputs": [],
   "source": [
    "\n",
    "sca = StandardScaler()\n",
    "\n",
    "sca.fit(train_enc)\n",
    "train = sca.transform(train_enc)\n",
    "test = sca.transform(test)\n",
    "\n",
    "best_lgb.fit(train, y)\n",
    "final_pred = best_lgb.predict(test)"
   ]
  },
  {
   "cell_type": "code",
   "execution_count": 186,
   "metadata": {},
   "outputs": [
    {
     "data": {
      "text/html": [
       "<div>\n",
       "<style scoped>\n",
       "    .dataframe tbody tr th:only-of-type {\n",
       "        vertical-align: middle;\n",
       "    }\n",
       "\n",
       "    .dataframe tbody tr th {\n",
       "        vertical-align: top;\n",
       "    }\n",
       "\n",
       "    .dataframe thead th {\n",
       "        text-align: right;\n",
       "    }\n",
       "</style>\n",
       "<table border=\"1\" class=\"dataframe\">\n",
       "  <thead>\n",
       "    <tr style=\"text-align: right;\">\n",
       "      <th></th>\n",
       "      <th>EmployeeNo</th>\n",
       "      <th>Promoted_or_Not</th>\n",
       "    </tr>\n",
       "  </thead>\n",
       "  <tbody>\n",
       "    <tr>\n",
       "      <th>0</th>\n",
       "      <td>YAK/S/00005</td>\n",
       "      <td>0</td>\n",
       "    </tr>\n",
       "    <tr>\n",
       "      <th>1</th>\n",
       "      <td>YAK/S/00011</td>\n",
       "      <td>0</td>\n",
       "    </tr>\n",
       "    <tr>\n",
       "      <th>2</th>\n",
       "      <td>YAK/S/00015</td>\n",
       "      <td>0</td>\n",
       "    </tr>\n",
       "    <tr>\n",
       "      <th>3</th>\n",
       "      <td>YAK/S/00016</td>\n",
       "      <td>0</td>\n",
       "    </tr>\n",
       "    <tr>\n",
       "      <th>4</th>\n",
       "      <td>YAK/S/00017</td>\n",
       "      <td>0</td>\n",
       "    </tr>\n",
       "  </tbody>\n",
       "</table>\n",
       "</div>"
      ],
      "text/plain": [
       "    EmployeeNo  Promoted_or_Not\n",
       "0  YAK/S/00005                0\n",
       "1  YAK/S/00011                0\n",
       "2  YAK/S/00015                0\n",
       "3  YAK/S/00016                0\n",
       "4  YAK/S/00017                0"
      ]
     },
     "execution_count": 186,
     "metadata": {},
     "output_type": "execute_result"
    }
   ],
   "source": [
    "sample['EmployeeNo'] = test_id\n",
    "sample['Promoted_or_Not'] = final_pred.astype('int64')\n",
    "sample.head()"
   ]
  },
  {
   "cell_type": "code",
   "execution_count": 187,
   "metadata": {},
   "outputs": [
    {
     "data": {
      "text/plain": [
       "0    15895\n",
       "1      601\n",
       "Name: Promoted_or_Not, dtype: int64"
      ]
     },
     "execution_count": 187,
     "metadata": {},
     "output_type": "execute_result"
    }
   ],
   "source": [
    "sample['Promoted_or_Not'].value_counts()"
   ]
  },
  {
   "cell_type": "code",
   "execution_count": 188,
   "metadata": {},
   "outputs": [],
   "source": [
    "sample.to_csv('cb_mean1.csv', index=False)"
   ]
  },
  {
   "cell_type": "code",
   "execution_count": null,
   "metadata": {},
   "outputs": [],
   "source": []
  },
  {
   "cell_type": "code",
   "execution_count": null,
   "metadata": {},
   "outputs": [],
   "source": []
  }
 ],
 "metadata": {
  "kernelspec": {
   "display_name": "Python 3",
   "language": "python",
   "name": "python3"
  },
  "language_info": {
   "codemirror_mode": {
    "name": "ipython",
    "version": 3
   },
   "file_extension": ".py",
   "mimetype": "text/x-python",
   "name": "python",
   "nbconvert_exporter": "python",
   "pygments_lexer": "ipython3",
   "version": "3.7.0"
  }
 },
 "nbformat": 4,
 "nbformat_minor": 4
}
